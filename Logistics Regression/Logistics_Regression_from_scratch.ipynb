{
  "nbformat": 4,
  "nbformat_minor": 0,
  "metadata": {
    "colab": {
      "name": "Logistics_Regression_from_scratch.ipynb",
      "provenance": []
    },
    "kernelspec": {
      "name": "python3",
      "display_name": "Python 3"
    },
    "language_info": {
      "name": "python"
    }
  },
  "cells": [
    {
      "cell_type": "markdown",
      "source": [
        "#Logistics Regression used in binary classification\n"
      ],
      "metadata": {
        "id": "XSw9FiB4V2ZR"
      }
    },
    {
      "cell_type": "markdown",
      "source": [
        "![Picture4.png](data:image/png;base64,iVBORw0KGgoAAAANSUhEUgAAAkMAAABLCAMAAABEK3PtAAAAAXNSR0IArs4c6QAAAARnQU1BAACxjwv8YQUAAAAzUExURQAAAAAAAAAAAAAAAAAAAAAAAAAAAAAAAAAAAAAAAAAAAAAAAAAAAAAAAAAAAAAAAAAAAKMFRskAAAAQdFJOUwATIi88SlhndoWWqLjL3O5QTd6UAAAACXBIWXMAABcRAAAXEQHKJvM/AAAEFklEQVR4Xu3ci3KjIBQGYEGDiAi8/9Pu4ZJNE3Cjkm3F/t/MjiaTpo3+Hi6S7QAAAAAAAAAAAAAAAOATuNJpD+AIppxDhuA4Ju1skCGocJt5J5EhqIQMQS1kCGohQ1ALGYJayBDUQoagFjIEtZAhqIUMQS1kCGohQ1CpN84NaR9gP3eHGF2dcgtLuwBHjG5GpwVqCKfCP4CD+tCQKSfSYwCAb3YfMzHr+rADsJNK3WnMBcJRPBYiKkOYw4GDVBiSjStlSKZJwkSmpwG+oELEu86slCFkCDbwhUigNwQVfCFa9vaGUl36pPTO0CJ14F5HOu+flN4ZWkSFCIMyqKPckvYy6FP/OH8Kzj/9+4/5RWQoGtIBIPUlW/u3oa3fbLjXLZxNeyeGOeq3pFs4bZh1c3yiinHWv9uNIrRh4dbwkd/5n/1ohqy/Gp2z514FN8e/Tzvzib9TxM7DLQ+HLJS50Y1p78R+MkM8tI/a3eLDs7JhaQy17B8ZfDDnKIrM5MtHSxlSLdwNP5whJqtbauF/dSOrl/qPdQhn/4F1aNCelTJkGugO+cWwaW8fSe1Q2q0ytrGKkm39fwF9B9xvWWiyqHhlIRB0xKdSeSlkiNFrb4szV1yaI8xCA4z04Cu9M1j+gLZAxZ7wQxhfPTzO/hjaKp8l/2gqRM86Uay9hQzd3KhGeq+T9xiP4Hq4H6QXbzL0mC6IDUNv2/hWCY2iXjptqxlKK/umeHhkIS1qpVksZIiGhL5PvZy9y3jQoQy9YLaNC4zbHS1uXI1lwpKIbjbhuSfjypxPIUM6ljF90cm5HRkSdNGaQvVmi22joV/2fAlP+ygIO/kNL5ShnnqSzx/b96G++NL6pQL36zPEtBv9sCY/C2GE0i2nr9PUAu/IejjhWoaqMuU3kpiZX8cRqxnq042oqy403ZyhJSQlXJ3PlJ8/Y6oQrnOhT7pnok9ShoRlkn6IF869XhgvN2Z5Wza6yW946QK8gq0ZknHkZbJL+X71FXoMp1Ie1q/3qSlDjFpuQVHSIQJPlG++y33kPENzfN1lVwm+ZGjtBm363lHDh2FOI2v59AnWMyTcLKkJGpwc85sjcVRfnpTLM5RWKa8tVm7exgwJqjP8ppxutRqLNKzvY7vy3uCMpXPuN6na0LGJO/RkCA8du8LhyDKUvndzdBr4/Da2ZZNPlJ6avZBoFBWyM9itczR0YMJPpA35myF6s3Ag6CWFgVaWIX9vv6OOVbPX3zsbM9T6sHQOZTXYeibT/f3HfMA9Qzca1fve32Do3fJBf5ahUQv69Uv+yqv4JRn6Rnl/6Oo2ZsiPdEl/0ZEFVOBUZQsVJssQt4Z3XJamqeFX+zuyfY1RlqGup7CZKV8tA1CWZwgAAAAAAAAAAAAAAGC7rvsDkSM8e6OA8XgAAAAASUVORK5CYII=)\n"
      ],
      "metadata": {
        "id": "K0lvpY2eXySK"
      }
    },
    {
      "cell_type": "markdown",
      "source": [
        "y_hat -> predicted value\n",
        "\n",
        "\n",
        "X -> independent Value\n",
        "\n",
        "\n",
        "W -> weight\n",
        "\n",
        "\n",
        "b -> bias"
      ],
      "metadata": {
        "id": "zVGeJJ9rX6nS"
      }
    },
    {
      "cell_type": "markdown",
      "source": [
        "#Gradient Descent \n",
        "\n",
        "to find the best values for W&B aka loss function\n",
        "\n",
        "w= w-a* pdw (pd = partial derivative)\n",
        "\n",
        "\n",
        "b = b- a* pdb (partial derivative)\n",
        "\n",
        "\n",
        "#learning Rate: \n",
        "stepes taken to find the minimum loss function"
      ],
      "metadata": {
        "id": "ljJPgb__YYMi"
      }
    },
    {
      "cell_type": "code",
      "source": [
        "import numpy as np"
      ],
      "metadata": {
        "id": "8cHu70g4YLH5"
      },
      "execution_count": 1,
      "outputs": []
    },
    {
      "cell_type": "code",
      "source": [
        "class Logistic_Regression():\n",
        "# whenever object is created 2 var are required\n",
        "  def __init__(self, learning_rate, no_iterations):\n",
        "     self.learning_rate = learning_rate\n",
        "     self.no_iterations = no_iterations\n",
        "\n",
        "# training part\n",
        "# need to know how many features and datapoints(number of rwos) \n",
        "  def fit(self,X,Y):\n",
        "    \n",
        "    self.m, self.n = X.shape # result would be like (m,n) (300,7) \n",
        "    # starting point for weight and bias values\n",
        "    self.w = np.zeros(self.n)\n",
        "    self.b = 0 \n",
        "    self.X = X \n",
        "    self.Y = Y\n",
        "\n",
        "    for i in range(no_iterations):\n",
        "      self.update_wieght()\n",
        "\n",
        "\n",
        "  def update_wieght(self):\n",
        "    # Y hat \n",
        "    Y_hat = 1/(1+np.exp(-(self.X.dot(self.w) + self.b) ))\n",
        "\n",
        "    # \n",
        "    dw = (1/self.m)*np.dot(self.X.T, (Y_hat - self.Y) )\n",
        "    db = (1/self.m)*np.sum(Y_hat - self.Y)\n",
        "\n",
        "    # update wieght & bias using GD\n",
        "    self.w = self.w - self.learning_rate * dw\n",
        "    self.b = self.b - self.learning_rate * db\n",
        "\n",
        "  def predict(self,X):  \n",
        "    Y_pred = 1 / (1 + np.exp( - (X.dot(self.w) + self.b ) )) \n",
        "    Y_pred = np.where( Y_pred > 0.5, 1, 0)\n",
        "    return Y_pred  \n"
      ],
      "metadata": {
        "id": "mTLA9tDOYXhP"
      },
      "execution_count": null,
      "outputs": []
    },
    {
      "cell_type": "code",
      "source": [
        ""
      ],
      "metadata": {
        "id": "Uv5PvvlUiKJK"
      },
      "execution_count": null,
      "outputs": []
    }
  ]
}